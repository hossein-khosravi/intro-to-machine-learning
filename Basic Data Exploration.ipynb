{
 "cells": [
  {
   "cell_type": "code",
   "execution_count": 1,
   "id": "dfa2b77c",
   "metadata": {},
   "outputs": [],
   "source": [
    "import pandas as pd"
   ]
  },
  {
   "cell_type": "code",
   "execution_count": 2,
   "id": "c0623aff",
   "metadata": {},
   "outputs": [],
   "source": [
    "home_data = pd.read_csv(\"F:/excercise/intro to machine learning/train.csv\")"
   ]
  },
  {
   "cell_type": "code",
   "execution_count": 3,
   "id": "75cb081f",
   "metadata": {},
   "outputs": [],
   "source": [
    "avg_lot_size = 10517\n",
    "newest_home_age = 13"
   ]
  },
  {
   "cell_type": "code",
   "execution_count": null,
   "id": "27a9a05a",
   "metadata": {},
   "outputs": [],
   "source": []
  }
 ],
 "metadata": {
  "kernelspec": {
   "display_name": "Python 3 (ipykernel)",
   "language": "python",
   "name": "python3"
  },
  "language_info": {
   "codemirror_mode": {
    "name": "ipython",
    "version": 3
   },
   "file_extension": ".py",
   "mimetype": "text/x-python",
   "name": "python",
   "nbconvert_exporter": "python",
   "pygments_lexer": "ipython3",
   "version": "3.9.12"
  }
 },
 "nbformat": 4,
 "nbformat_minor": 5
}
